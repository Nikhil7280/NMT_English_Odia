{
 "cells": [
  {
   "cell_type": "code",
   "execution_count": 26,
   "id": "177b6b7e",
   "metadata": {},
   "outputs": [],
   "source": [
    "# Importing the Libraries\n",
    "import numpy as np\n",
    "import pandas as pd\n",
    "from sklearn.model_selection import train_test_split\n",
    "\n",
    "import warnings\n",
    "warnings.filterwarnings(\"ignore\")"
   ]
  },
  {
   "cell_type": "code",
   "execution_count": 41,
   "id": "4587bc25",
   "metadata": {},
   "outputs": [],
   "source": [
    "# Importing the Datasets from original Source\n",
    "train = pd.read_csv(\"odiencorp20-train\", delimiter = \"\\t\", header=None, on_bad_lines='skip')\n",
    "validation = pd.read_csv(\"odiencorp20-dev\", delimiter = \"\\t\", header=None, on_bad_lines='skip')\n",
    "test = pd.read_csv(\"odiencorp20-test\", delimiter = \"\\t\", header=None, on_bad_lines='skip')"
   ]
  },
  {
   "cell_type": "code",
   "execution_count": 42,
   "id": "908d513d",
   "metadata": {},
   "outputs": [
    {
     "name": "stdout",
     "output_type": "stream",
     "text": [
      "Train Shape is: (58170, 3)\n",
      "Validation Shape is: (12098, 3)\n",
      "Test Shape is: (12417, 3)\n"
     ]
    }
   ],
   "source": [
    "print(f\"Train Shape is: {train.shape}\")\n",
    "print(f\"Validation Shape is: {validation.shape}\")\n",
    "print(f\"Test Shape is: {test.shape}\")"
   ]
  },
  {
   "cell_type": "code",
   "execution_count": 43,
   "id": "0cef5ad2",
   "metadata": {},
   "outputs": [],
   "source": [
    "# Concatinating all the Dataset to make a combined one\n",
    "full_df = pd.concat([train, validation, test], axis=0, ignore_index=True)\n",
    "full_df.columns = [\"Source\", \"English\", \"Odia\"]"
   ]
  },
  {
   "cell_type": "code",
   "execution_count": 44,
   "id": "2e7f41bb",
   "metadata": {},
   "outputs": [
    {
     "data": {
      "text/html": [
       "<div>\n",
       "<style scoped>\n",
       "    .dataframe tbody tr th:only-of-type {\n",
       "        vertical-align: middle;\n",
       "    }\n",
       "\n",
       "    .dataframe tbody tr th {\n",
       "        vertical-align: top;\n",
       "    }\n",
       "\n",
       "    .dataframe thead th {\n",
       "        text-align: right;\n",
       "    }\n",
       "</style>\n",
       "<table border=\"1\" class=\"dataframe\">\n",
       "  <thead>\n",
       "    <tr style=\"text-align: right;\">\n",
       "      <th></th>\n",
       "      <th>Source</th>\n",
       "      <th>English</th>\n",
       "      <th>Odia</th>\n",
       "    </tr>\n",
       "  </thead>\n",
       "  <tbody>\n",
       "    <tr>\n",
       "      <th>0</th>\n",
       "      <td>odiencorp10</td>\n",
       "      <td>That they may keep thee from the strange woman...</td>\n",
       "      <td>ତବେେ ତାହା ତୁମ୍ଭକୁ ଅନ୍ୟ ପର ସ୍ତ୍ରୀଠାରୁ ରକ୍ଷା କରି...</td>\n",
       "    </tr>\n",
       "    <tr>\n",
       "      <th>1</th>\n",
       "      <td>odiencorp10</td>\n",
       "      <td>And they shall dwell safely therein, and shall...</td>\n",
       "      <td>ସମାନେେ ତାହା ମଧିଅରେ ନିରାପଦ ରେ ବାସ କରିବେ। ସମାନେେ...</td>\n",
       "    </tr>\n",
       "    <tr>\n",
       "      <th>2</th>\n",
       "      <td>pmindia</td>\n",
       "      <td>The MoU aims to develop bilateral cooperation ...</td>\n",
       "      <td>ଏହି ବୁଝାମଣାର ଉଦ୍ଦେଶ୍ୟ, ଦୁଗ୍ଧ ଉତ୍ପାଦନ ବିକାଶ ଏବଂ...</td>\n",
       "    </tr>\n",
       "    <tr>\n",
       "      <th>3</th>\n",
       "      <td>dict</td>\n",
       "      <td>oxytocin</td>\n",
       "      <td>ଅକ୍ସିଟୋସିନ</td>\n",
       "    </tr>\n",
       "    <tr>\n",
       "      <th>4</th>\n",
       "      <td>books</td>\n",
       "      <td>But that night was special.</td>\n",
       "      <td>ଆଜି ରାତ୍ରିର କଥା କିନ୍ତୁ ସ୍ଵତନ୍ତ୍ର ।</td>\n",
       "    </tr>\n",
       "  </tbody>\n",
       "</table>\n",
       "</div>"
      ],
      "text/plain": [
       "        Source                                            English  \\\n",
       "0  odiencorp10  That they may keep thee from the strange woman...   \n",
       "1  odiencorp10  And they shall dwell safely therein, and shall...   \n",
       "2      pmindia  The MoU aims to develop bilateral cooperation ...   \n",
       "3         dict                                           oxytocin   \n",
       "4        books                        But that night was special.   \n",
       "\n",
       "                                                Odia  \n",
       "0  ତବେେ ତାହା ତୁମ୍ଭକୁ ଅନ୍ୟ ପର ସ୍ତ୍ରୀଠାରୁ ରକ୍ଷା କରି...  \n",
       "1  ସମାନେେ ତାହା ମଧିଅରେ ନିରାପଦ ରେ ବାସ କରିବେ। ସମାନେେ...  \n",
       "2  ଏହି ବୁଝାମଣାର ଉଦ୍ଦେଶ୍ୟ, ଦୁଗ୍ଧ ଉତ୍ପାଦନ ବିକାଶ ଏବଂ...  \n",
       "3                                         ଅକ୍ସିଟୋସିନ  \n",
       "4                 ଆଜି ରାତ୍ରିର କଥା କିନ୍ତୁ ସ୍ଵତନ୍ତ୍ର ।  "
      ]
     },
     "execution_count": 44,
     "metadata": {},
     "output_type": "execute_result"
    }
   ],
   "source": [
    "full_df.head()"
   ]
  },
  {
   "cell_type": "code",
   "execution_count": 45,
   "id": "d882996e",
   "metadata": {},
   "outputs": [],
   "source": [
    "# Preprocessing the Dataset\n",
    "def preprocess(data):\n",
    "    data[\"English\"] = data[\"English\"].str.lower()\n",
    "    data.dropna(inplace=True)\n",
    "    data.drop(\"Source\", axis=1, inplace=True)\n",
    "    return data.sample(frac=1, random_state=42, ignore_index=True)\n",
    "\n",
    "full_df_preprocess = preprocess(full_df)"
   ]
  },
  {
   "cell_type": "code",
   "execution_count": 46,
   "id": "6d6ab856",
   "metadata": {},
   "outputs": [
    {
     "name": "stdout",
     "output_type": "stream",
     "text": [
      "<class 'pandas.core.frame.DataFrame'>\n",
      "RangeIndex: 82680 entries, 0 to 82679\n",
      "Data columns (total 2 columns):\n",
      " #   Column   Non-Null Count  Dtype \n",
      "---  ------   --------------  ----- \n",
      " 0   English  82680 non-null  object\n",
      " 1   Odia     82680 non-null  object\n",
      "dtypes: object(2)\n",
      "memory usage: 1.3+ MB\n"
     ]
    }
   ],
   "source": [
    "full_df_preprocess.info()"
   ]
  },
  {
   "cell_type": "code",
   "execution_count": 47,
   "id": "265c18c6",
   "metadata": {},
   "outputs": [
    {
     "data": {
      "text/html": [
       "<div>\n",
       "<style scoped>\n",
       "    .dataframe tbody tr th:only-of-type {\n",
       "        vertical-align: middle;\n",
       "    }\n",
       "\n",
       "    .dataframe tbody tr th {\n",
       "        vertical-align: top;\n",
       "    }\n",
       "\n",
       "    .dataframe thead th {\n",
       "        text-align: right;\n",
       "    }\n",
       "</style>\n",
       "<table border=\"1\" class=\"dataframe\">\n",
       "  <thead>\n",
       "    <tr style=\"text-align: right;\">\n",
       "      <th></th>\n",
       "      <th>English</th>\n",
       "      <th>Odia</th>\n",
       "    </tr>\n",
       "  </thead>\n",
       "  <tbody>\n",
       "    <tr>\n",
       "      <th>0</th>\n",
       "      <td>coral snake</td>\n",
       "      <td>ଶଙ୍ଖାମୁଠିଆ</td>\n",
       "    </tr>\n",
       "    <tr>\n",
       "      <th>1</th>\n",
       "      <td>earlier, president mirziyoyev, leading a large...</td>\n",
       "      <td>ପୂର୍ବରୁ, ରାଷ୍ଟ୍ରପତି ମିର୍ଜିୟୋୟେଭ, ଏକ ବଡ଼ ଏବଂ ଉଚ୍...</td>\n",
       "    </tr>\n",
       "    <tr>\n",
       "      <th>2</th>\n",
       "      <td>and joseph said unto them, what deed is this t...</td>\n",
       "      <td>ଯୋଷଫେ ସମାନଙ୍କେୁ କହିଲେ, \"ତୁମ୍ଭେ କାହିଁକି ଏପରି କ...</td>\n",
       "    </tr>\n",
       "    <tr>\n",
       "      <th>3</th>\n",
       "      <td>work is being carried out on this project keep...</td>\n",
       "      <td>ଏହି ପ୍ରକଳ୍ପ ଉପରେ ଏବେ କାର୍ଯ୍ୟ ଜାରି ରହିଛି ଏବଂ ଏଥ...</td>\n",
       "    </tr>\n",
       "    <tr>\n",
       "      <th>4</th>\n",
       "      <td>suddenly a stream of nectar flowed through my ...</td>\n",
       "      <td>ହଠାତ୍‌ ଅମ୍ପୃତର ଧାରାଟିଏ କର୍ଣ୍ଵପଟ ଦେଇ ପ୍ରବାହିତ ହ...</td>\n",
       "    </tr>\n",
       "  </tbody>\n",
       "</table>\n",
       "</div>"
      ],
      "text/plain": [
       "                                             English  \\\n",
       "0                                        coral snake   \n",
       "1  earlier, president mirziyoyev, leading a large...   \n",
       "2  and joseph said unto them, what deed is this t...   \n",
       "3  work is being carried out on this project keep...   \n",
       "4  suddenly a stream of nectar flowed through my ...   \n",
       "\n",
       "                                                Odia  \n",
       "0                                         ଶଙ୍ଖାମୁଠିଆ  \n",
       "1  ପୂର୍ବରୁ, ରାଷ୍ଟ୍ରପତି ମିର୍ଜିୟୋୟେଭ, ଏକ ବଡ଼ ଏବଂ ଉଚ୍...  \n",
       "2  ଯୋଷଫେ ସମାନଙ୍କେୁ କହିଲେ, \"ତୁମ୍ଭେ କାହିଁକି ଏପରି କ...  \n",
       "3  ଏହି ପ୍ରକଳ୍ପ ଉପରେ ଏବେ କାର୍ଯ୍ୟ ଜାରି ରହିଛି ଏବଂ ଏଥ...  \n",
       "4  ହଠାତ୍‌ ଅମ୍ପୃତର ଧାରାଟିଏ କର୍ଣ୍ଵପଟ ଦେଇ ପ୍ରବାହିତ ହ...  "
      ]
     },
     "execution_count": 47,
     "metadata": {},
     "output_type": "execute_result"
    }
   ],
   "source": [
    "full_df_preprocess.head()"
   ]
  },
  {
   "cell_type": "code",
   "execution_count": 48,
   "id": "91c388dd",
   "metadata": {},
   "outputs": [],
   "source": [
    "# Dividing the Dataset in 85%, 7.5%, 7.5% Ratio for Train, Val and Test Respectively\n",
    "\n",
    "train_df, test_val_df = train_test_split(full_df_preprocess, test_size=0.15, random_state=42)\n",
    "val_df, test_df = train_test_split(test_val_df, test_size=0.5, random_state=42)"
   ]
  },
  {
   "cell_type": "code",
   "execution_count": 49,
   "id": "8b53659d",
   "metadata": {},
   "outputs": [
    {
     "name": "stdout",
     "output_type": "stream",
     "text": [
      "Train Shape is: (70278, 2)\n",
      "Validation Shape is: (6201, 2)\n",
      "Test Shape is: (6201, 2)\n"
     ]
    }
   ],
   "source": [
    "print(f\"Train Shape is: {train_df.shape}\")\n",
    "print(f\"Validation Shape is: {val_df.shape}\")\n",
    "print(f\"Test Shape is: {test_df.shape}\")"
   ]
  },
  {
   "cell_type": "code",
   "execution_count": 50,
   "id": "33469c30",
   "metadata": {},
   "outputs": [],
   "source": [
    "train_df.to_csv(\"odiencorp20-train.csv\", index=False)\n",
    "val_df.to_csv(\"odiencorp20-val.csv\", index=False)\n",
    "test_df.to_csv(\"odiencorp20-test.csv\", index=False)"
   ]
  },
  {
   "cell_type": "code",
   "execution_count": null,
   "id": "aa7e212c",
   "metadata": {},
   "outputs": [],
   "source": []
  }
 ],
 "metadata": {
  "kernelspec": {
   "display_name": "Python 3.11 (Tensorflow)",
   "language": "python",
   "name": "tensorflow"
  },
  "language_info": {
   "codemirror_mode": {
    "name": "ipython",
    "version": 3
   },
   "file_extension": ".py",
   "mimetype": "text/x-python",
   "name": "python",
   "nbconvert_exporter": "python",
   "pygments_lexer": "ipython3",
   "version": "3.11.5"
  }
 },
 "nbformat": 4,
 "nbformat_minor": 5
}
